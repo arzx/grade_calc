{
 "cells": [
  {
   "cell_type": "code",
   "execution_count": 137,
   "metadata": {},
   "outputs": [],
   "source": [
    "import csv"
   ]
  },
  {
   "cell_type": "code",
   "execution_count": 138,
   "metadata": {},
   "outputs": [],
   "source": [
    "file = 'grades.csv'\n",
    "\n",
    "data = [\n",
    "    ['Modul', 'Note', 'Credits'],\n",
    "    #### Semester 1\n",
    "    ['Seminar: Artificial Intelligence', 1.0, 3],\n",
    "    ['Maschinelles Lernen 2', 4.0, 5],\n",
    "    [\"KI 1\", 2.0, 5],\n",
    "    [\"Fallbasierte Anwendungen\", 1.0, 5],\n",
    "    [\"Seminar: Data Analytics\", 2.3, 3],\n",
    "    ##### Theoretisch Sem 2 #####\n",
    "    ['RL', 1.0, 5],\n",
    "    ['CHI', 3.0, 5],\n",
    "    [\"Game_Dev\", 3.0, 5],\n",
    "    [\"Ki Autos\", 1.7, 3],\n",
    "    [\"Digitale Trafo\", 1.3, 3],\n",
    "    [\"Genome ML\", 3.0, 5],\n",
    "    [\"Neuroevolution\", 0, 6],\n",
    "    [\"AutoML\", 0, 6],\n",
    "\n",
    "    ##### Semester 3 #####\n",
    "    ['CV', 3.7, 5],\n",
    "    ['ML', 3.3, 5],\n",
    "    [\"Seminar CV\", 2.3, 3],\n",
    "    [\"Studium Generale\", 2.7, 3],\n",
    "    [\"AutoML\", 2.7, 5],\n",
    "    [\"ML Modul\", 2.7, 5],\n",
    "    [\"ML Modul\", 2.3, 5],\n",
    "    [\"Masterarbeit\", 1.7, 30],\n",
    "\n",
    "]\n"
   ]
  },
  {
   "cell_type": "code",
   "execution_count": 139,
   "metadata": {},
   "outputs": [],
   "source": [
    "def calc_grade(data):\n",
    "    total_score = 0\n",
    "    total_credits = 0\n",
    "\n",
    "    for row in data[1:]:  # Skip the header row\n",
    "        note = float(row[1])  # Assuming \"Note\" column contains numeric values\n",
    "        credits = int(row[2])  # Assuming \"Credits\" column contains integer values\n",
    "\n",
    "        total_score += note * credits\n",
    "        total_credits += credits\n",
    "\n",
    "    # Avoid division by zero\n",
    "    if total_credits == 0:\n",
    "        return 0\n",
    "\n",
    "    average_grade = total_score / total_credits\n",
    "    print(total_credits)\n",
    "    return average_grade\n"
   ]
  },
  {
   "cell_type": "code",
   "execution_count": 140,
   "metadata": {},
   "outputs": [
    {
     "name": "stdout",
     "output_type": "stream",
     "text": [
      "120\n",
      "The calculated grade is: 2.0283333333333333\n"
     ]
    }
   ],
   "source": [
    "result = calc_grade(data)\n",
    "print(f\"The calculated grade is: {result}\")\n"
   ]
  },
  {
   "cell_type": "code",
   "execution_count": 141,
   "metadata": {},
   "outputs": [],
   "source": [
    "final_row = [\"Final Grade\", \"\", \"\", result]\n",
    "data.append(final_row)"
   ]
  },
  {
   "cell_type": "code",
   "execution_count": 142,
   "metadata": {},
   "outputs": [],
   "source": [
    "with open(file, 'w', newline='') as file:\n",
    "    # Create a CSV writer object\n",
    "    csv_writer = csv.writer(file)\n",
    "\n",
    "    # Write the data to the CSV file\n",
    "    csv_writer.writerows(data)"
   ]
  }
 ],
 "metadata": {
  "kernelspec": {
   "display_name": "Python 3",
   "language": "python",
   "name": "python3"
  },
  "language_info": {
   "codemirror_mode": {
    "name": "ipython",
    "version": 3
   },
   "file_extension": ".py",
   "mimetype": "text/x-python",
   "name": "python",
   "nbconvert_exporter": "python",
   "pygments_lexer": "ipython3",
   "version": "3.11.6"
  }
 },
 "nbformat": 4,
 "nbformat_minor": 2
}
